{
 "cells": [
  {
   "cell_type": "code",
   "execution_count": null,
   "metadata": {},
   "outputs": [],
   "source": [
    "# import numpy as np\n",
    "import pandas as pd\n",
    "import os\n",
    "import psycopg2\n",
    "from sqlalchemy import create_engine"
   ]
  },
  {
   "cell_type": "code",
   "execution_count": null,
   "metadata": {},
   "outputs": [],
   "source": [
    "def lcSeq(X, Y):\n",
    "    # find the length of the strings\n",
    "    m = len(X)\n",
    "    n = len(Y)\n",
    "    # declaring the array for storing the dp values\n",
    "    L = [[None]*(n + 1) for i in range(m + 1)]\n",
    "    for i in range(m + 1):\n",
    "        for j in range(n + 1):\n",
    "            if i == 0 or j == 0 :\n",
    "                L[i][j] = 0\n",
    "            elif X[i-1] == Y[j-1]:\n",
    "                L[i][j] = L[i-1][j-1]+1\n",
    "            else:\n",
    "                L[i][j] = max(L[i-1][j], L[i][j-1])\n",
    "    # L[m][n] contains the length of LCS of X[0..n-1] & Y[0..m-1]\n",
    "    return L[m][n]\n",
    "\n",
    "def lcStr(S,T):\n",
    "    S = S.lower()\n",
    "    T = T.lower()\n",
    "    m = len(S)\n",
    "    n = len(T)\n",
    "    counter = [[0]*(n+1) for x in range(m+1)]\n",
    "    longest = 0\n",
    "    lcs_set = set()\n",
    "    for i in range(m):\n",
    "        for j in range(n):\n",
    "            if S[i] == T[j]:\n",
    "                c = counter[i][j] + 1\n",
    "                counter[i+1][j+1] = c\n",
    "                if c > longest:\n",
    "                    lcs_set = set()\n",
    "                    longest = c\n",
    "                    lcs_set.add(S[i-c+1:i+1])\n",
    "                elif c == longest:\n",
    "                    lcs_set.add(S[i-c+1:i+1])\n",
    "#     return lcs_set\n",
    "    lc = [len(item) for item in list(lcs_set)]\n",
    "    if len(lc) == 0:\n",
    "        return 0\n",
    "    else:\n",
    "        return max(lc)"
   ]
  },
  {
   "cell_type": "code",
   "execution_count": null,
   "metadata": {},
   "outputs": [],
   "source": [
    "def team_match(names_a, names_b, source_a, source_b, method = 'subsequence'):\n",
    "    team_names = pd.DataFrame()\n",
    "    for a in names_a:\n",
    "        arr = []\n",
    "        if method == 'subsequence':\n",
    "            for b in names_b:\n",
    "                arr.append(lcSeq(a, b))\n",
    "        else:\n",
    "            for b in names_b:\n",
    "                arr.append(lcStr(a, b))\n",
    "        arr = pd.Series(arr)\n",
    "        team_names = team_names.append({source_a: a, source_b: names_b[arr.idxmax()]}, ignore_index=True)\n",
    "    return team_names\n",
    "\n",
    "def zipper(df1, df2, source_1, source_2):\n",
    "    match = team_match(df1.index.values, df2.index.values, source_1, source_2)\n",
    "    if match.duplicated(subset = source_1, keep = False).sum() + match.duplicated(subset = source_2, keep = False).sum() > 0:\n",
    "        match = match = team_match(df2.index.values, df1.index.values, source_2, source_1)\n",
    "        if match.duplicated(subset = source_1, keep = False).sum() + match.duplicated(subset = source_2, keep = False).sum() > 0:\n",
    "            match = team_match(df1.index.values, df2.index.values, source_1, source_2, 'substring')\n",
    "            if match.duplicated(subset = source_1, keep = False).sum() + match.duplicated(subset = source_2, keep = False).sum() > 0:\n",
    "                match = match = team_match(df2.index.values, df1.index.values, source_2, source_1, 'substring')\n",
    "                if match.duplicated(subset = source_1, keep = False).sum() + match.duplicated(subset = source_2, keep = False).sum() > 0:\n",
    "                    return 'Team Names Pileup'\n",
    "    df1 = match.set_index(source_1).join(df1)\n",
    "    df2 = match.set_index(source_2).join(df2)\n",
    "    df1 = df1.reset_index().set_index([source_1, source_2])\n",
    "    df2 = df2.reset_index().set_index([source_1, source_2])\n",
    "    return {source_1: df1, source_2: df2}"
   ]
  }
 ],
 "metadata": {
  "kernelspec": {
   "display_name": "development",
   "language": "python",
   "name": "development"
  },
  "language_info": {
   "codemirror_mode": {
    "name": "ipython",
    "version": 3
   },
   "file_extension": ".py",
   "mimetype": "text/x-python",
   "name": "python",
   "nbconvert_exporter": "python",
   "pygments_lexer": "ipython3",
   "version": "3.6.4"
  }
 },
 "nbformat": 4,
 "nbformat_minor": 2
}
