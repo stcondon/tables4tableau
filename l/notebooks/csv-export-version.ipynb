{
 "cells": [
  {
   "cell_type": "code",
   "execution_count": 1,
   "metadata": {},
   "outputs": [],
   "source": [
    "from math import ceil\n",
    "import pandas as pd\n",
    "import os\n",
    "# import math\n",
    "import fte_sdm"
   ]
  },
  {
   "cell_type": "code",
   "execution_count": 4,
   "metadata": {},
   "outputs": [
    {
     "data": {
      "text/plain": [
       "(80, 13)"
      ]
     },
     "execution_count": 4,
     "metadata": {},
     "output_type": "execute_result"
    }
   ],
   "source": [
    "def fte_csv_export(path, league_dict):\n",
    "    df = pd.read_csv(path)\n",
    "    for key in league_dict:\n",
    "        q = ''.join(['league_id == ', league_dict[key]])\n",
    "        league = df.query(q).reset_index()\n",
    "        tb = getattr(fte_sdm, '_'.join(['fte', key, 'tb']))\n",
    "        num_teams = len(league.loc[:50, 'team1'].unique())\n",
    "        pais = pd.DataFrame()\n",
    "        for i in range(ceil(league.shape[0]/(num_teams * (num_teams - 1)))):\n",
    "            temp = league.loc[((num_teams * (num_teams - 1)) * i):((num_teams * (num_teams - 1)) * (i+1) - 1),:]\n",
    "            temp = tb(temp)\n",
    "            pais = pd.concat([pais, temp], ignore_index = False)\n",
    "    return pais\n",
    "#         pais.to_csv('.'.join([key,'csv']), index=True)\n",
    "\n",
    "# pais = fte_csv_export(os.path.expanduser('~/Downloads/spi_matches.csv'),{'england':'2411', 'spain':'1869',\n",
    "#                                                                          'italy':'1854','germany':'1845',\n",
    "#                                                                          'france':'1843'})\n",
    "pais = fte_csv_export(os.path.expanduser('~/Downloads/spi_matches.csv'),{'italy':'1854'})\n",
    "pais.shape\n",
    "\n",
    "# if __name__ == \"__main__\":\n",
    "# fte_csv_export(os.path.expanduser('~/Downloads/spi_matches.csv'),{'england':'2411', 'spain':'1869',\n",
    "#                                                                    'italy':'1854','germany':'1845',\n",
    "#                                                                    'france':'1843'})"
   ]
  },
  {
   "cell_type": "code",
   "execution_count": null,
   "metadata": {},
   "outputs": [],
   "source": []
  }
 ],
 "metadata": {
  "kernelspec": {
   "display_name": "Python 3",
   "language": "python",
   "name": "python3"
  },
  "language_info": {
   "codemirror_mode": {
    "name": "ipython",
    "version": 3
   },
   "file_extension": ".py",
   "mimetype": "text/x-python",
   "name": "python",
   "nbconvert_exporter": "python",
   "pygments_lexer": "ipython3",
   "version": "3.6.5"
  }
 },
 "nbformat": 4,
 "nbformat_minor": 2
}
