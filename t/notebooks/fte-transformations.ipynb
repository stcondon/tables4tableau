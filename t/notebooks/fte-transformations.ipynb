{
 "cells": [
  {
   "cell_type": "code",
   "execution_count": 4,
   "metadata": {},
   "outputs": [],
   "source": [
    "import pandas as pd\n",
    "import os\n",
    "import math"
   ]
  },
  {
   "cell_type": "code",
   "execution_count": 2,
   "metadata": {},
   "outputs": [],
   "source": [
    "fte = pd.read_csv(os.path.expanduser('~/Downloads/spi_matches.csv'))"
   ]
  },
  {
   "cell_type": "code",
   "execution_count": null,
   "metadata": {
    "scrolled": true
   },
   "outputs": [],
   "source": [
    "fte.columns"
   ]
  },
  {
   "cell_type": "markdown",
   "metadata": {},
   "source": [
    "## Put two things online for every league\n",
    "1. Table\n",
    "2. Transformed aggregate version w/ one team like cte on sql query"
   ]
  },
  {
   "cell_type": "code",
   "execution_count": null,
   "metadata": {},
   "outputs": [],
   "source": [
    "def mvp(df, date, home_team, away_team, home_goals, away_goals, home_xg, away_xg, home_nsxg, away_nxsg, ):\n",
    "    #home\n",
    "    home = df.groupby(home_team).apply(\n",
    "        lambda x: (x[home_goals] > x[away_goals]).sum() * 3 + (x[home_goals] == x[away_goals]).sum()).reset_index(name='points')\n",
    "    pt = pd.pivot_table(df, values = [home_goals, away_goals], index = home_team, aggfunc=sum)\n",
    "    home = home.merge(pt.reset_index(), on = home_team)\n",
    "    pt = pd.pivot_table(df, values = date, index = home_team, aggfunc=pd.Series.nunique)\n",
    "    home = home.merge(pt.reset_index(), on = home_team)\n",
    "    home = home.rename(columns = {home_team:'team', away_goals:'conceded', home_goals: 'scored', date: 'played'})\n",
    "    if results == 'home':\n",
    "        t = home\n",
    "#away\n",
    "    away = df.groupby(away_team).apply(\n",
    "        lambda x: (x[away_goals] > x[home_goals]).sum() * 3 + (x[home_goals] == x[away_goals]).sum()).reset_index(name='points')\n",
    "    pt = pd.pivot_table(df, values = [home_goals, away_goals], index = away_team, aggfunc=sum)\n",
    "    away = away.merge(pt.reset_index(), on = away_team)\n",
    "    pt = pd.pivot_table(df, values = date, index = away_team, aggfunc=pd.Series.nunique)\n",
    "    away = away.merge(pt.reset_index(), on = away_team)\n",
    "    away = away.rename(columns = {away_team:'team', away_goals:'scored', home_goals: 'conceded', date: 'played'})\n",
    "    if results == 'away':\n",
    "        t = away\n",
    "#merge\n",
    "    t = pd.concat([home, away], ignore_index=True)\n",
    "    t = t.groupby('team').sum()\n",
    "    t['goal_difference'] = t['scored'] - t['conceded']\n",
    "    return t"
   ]
  },
  {
   "cell_type": "code",
   "execution_count": 20,
   "metadata": {},
   "outputs": [],
   "source": [
    "def fte_last_season(path, league_dict):\n",
    "    df = pd.read_csv(path)\n",
    "    for key in league_dict:\n",
    "        q = ''.join(['league_id == ', league_dict[key]])\n",
    "        league = df.query(q).reset_index()\n",
    "        num_teams = len(league.loc[:50, 'team1'].unique())\n",
    "        i = math.floor(league.shape[0]/(num_teams * (num_teams - 1))) - 1\n",
    "        return league.loc[((num_teams * (num_teams - 1)) * i):,:]"
   ]
  },
  {
   "cell_type": "code",
   "execution_count": 23,
   "metadata": {},
   "outputs": [],
   "source": [
    "path = os.path.expanduser('~/Downloads/spi_matches.csv')\n",
    "league_dict = {'england':'2411', 'spain':'1869', 'italy':'1854','germany':'1845', 'france':'1843'}\n",
    "fte = fte_last_season(path, league_dict)"
   ]
  },
  {
   "cell_type": "code",
   "execution_count": null,
   "metadata": {},
   "outputs": [],
   "source": []
  }
 ],
 "metadata": {
  "kernelspec": {
   "display_name": "Python 3",
   "language": "python",
   "name": "python3"
  },
  "language_info": {
   "codemirror_mode": {
    "name": "ipython",
    "version": 3
   },
   "file_extension": ".py",
   "mimetype": "text/x-python",
   "name": "python",
   "nbconvert_exporter": "python",
   "pygments_lexer": "ipython3",
   "version": "3.6.4"
  }
 },
 "nbformat": 4,
 "nbformat_minor": 2
}
